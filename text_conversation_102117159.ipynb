{
  "nbformat": 4,
  "nbformat_minor": 0,
  "metadata": {
    "colab": {
      "provenance": [],
      "authorship_tag": "ABX9TyOGn8XYLRFi3ptAlf/IoXSa",
      "include_colab_link": true
    },
    "kernelspec": {
      "name": "python3",
      "display_name": "Python 3"
    },
    "language_info": {
      "name": "python"
    }
  },
  "cells": [
    {
      "cell_type": "markdown",
      "metadata": {
        "id": "view-in-github",
        "colab_type": "text"
      },
      "source": [
        "<a href=\"https://colab.research.google.com/github/Ramjas-Langdi/Topsis_text_conversation_102117159/blob/main/text_conversation_102117159.ipynb\" target=\"_parent\"><img src=\"https://colab.research.google.com/assets/colab-badge.svg\" alt=\"Open In Colab\"/></a>"
      ]
    },
    {
      "cell_type": "code",
      "execution_count": null,
      "metadata": {
        "id": "sq0R0Q42f5Oi"
      },
      "outputs": [],
      "source": [
        "!pip install transformers pandas\n"
      ]
    },
    {
      "cell_type": "code",
      "source": [
        "import pandas as pd\n",
        "import numpy as np\n",
        "from transformers import AutoTokenizer, AutoModel\n",
        "import torch\n",
        "\n",
        "models = [\n",
        "    {\"name\": \"bert-base-uncased\", \"model\": \"textattack/bert-base-uncased-MNLI\"},\n",
        "    {\"name\": \"bert-base-cased\", \"model\": \"bert-base-cased\"},\n",
        "    {\"name\": \"roberta-base\", \"model\": \"roberta-base\"},\n",
        "    {\"name\": \"distilbert-base-uncased\", \"model\": \"distilbert-base-uncased\"},\n",
        "    {\"name\": \"xlnet-base-cased\", \"model\": \"xlnet-base-cased\"}\n",
        "]\n",
        "\n",
        "parameters = [\"coherence\", \"engagement\", \"relevance\", \"understandability\"]\n",
        "\n",
        "text_conversation = [\n",
        "    \"User: Hello! How can I help you today?\",\n",
        "    \"Bot: Hi there! I'm having some trouble with my account.\",\n",
        "    \"User: Sure, I'll do my best to assist you. What seems to be the problem?\",\n",
        "    \"Bot: I keep getting an error message when I try to log in.\",\n",
        "    \"User: Let me check your account details to see what might be causing the issue.\",\n",
        "    \"Bot: Thank you for your help.\"\n",
        "]\n",
        "\n",
        "scores = np.zeros((len(models), len(parameters)))\n",
        "\n",
        "for i, model_info in enumerate(models):\n",
        "    tokenizer = AutoTokenizer.from_pretrained(model_info[\"model\"])\n",
        "    model = AutoModel.from_pretrained(model_info[\"model\"])\n",
        "\n",
        "    embeddings = []\n",
        "    for utterance in text_conversation:\n",
        "        inputs = tokenizer(utterance, return_tensors=\"pt\", padding=True, truncation=True)\n",
        "        with torch.no_grad():\n",
        "            output = model(**inputs)\n",
        "            embeddings.append(output.last_hidden_state.mean(dim=1).squeeze().numpy())\n",
        "\n",
        "    conversation_embedding = np.mean(embeddings, axis=0)\n",
        "\n",
        "    ideal_solution = np.max(conversation_embedding, axis=0)\n",
        "    anti_ideal_solution = np.min(conversation_embedding, axis=0)\n",
        "\n",
        "    distance_to_ideal = np.linalg.norm(conversation_embedding - ideal_solution)\n",
        "    distance_to_anti_ideal = np.linalg.norm(conversation_embedding - anti_ideal_solution)\n",
        "\n",
        "    performance_score = distance_to_anti_ideal / (distance_to_ideal + distance_to_anti_ideal)\n",
        "\n",
        "    scores[i] = performance_score\n",
        "\n",
        "ranks = np.argsort(scores.sum(axis=1))\n",
        "df = pd.DataFrame(scores, columns=parameters)\n",
        "df.insert(0, \"Model\", [model[\"name\"] for model in models])\n",
        "df[\"TOPSIS Score\"] = scores.sum(axis=1)\n",
        "df[\"Rank\"] = len(models) - ranks\n",
        "\n",
        "df.to_csv(\"102117159model_comparison_results.csv\", index=False)\n",
        "\n",
        "print(df)\n"
      ],
      "metadata": {
        "id": "Xa39j-qhgC2o"
      },
      "execution_count": null,
      "outputs": []
    },
    {
      "cell_type": "code",
      "source": [
        "import pandas as pd\n",
        "import matplotlib.pyplot as plt\n",
        "\n",
        "# Load the result file\n",
        "df = pd.read_csv(\"model_comparison_results.csv\")\n",
        "\n",
        "# Set the model names as index\n",
        "df.set_index(\"Model\", inplace=True)\n",
        "\n",
        "# Plotting\n",
        "df.plot(kind=\"bar\", figsize=(12, 6))\n",
        "plt.title(\"Comparison of Models based on Evaluation Parameters\")\n",
        "plt.xlabel(\"Models\")\n",
        "plt.ylabel(\"Scores\")\n",
        "plt.xticks(rotation=45, ha=\"right\")\n",
        "plt.legend(title=\"Parameters\")\n",
        "plt.tight_layout()\n",
        "plt.show()"
      ],
      "metadata": {
        "id": "iiFWB2BbgFdE"
      },
      "execution_count": null,
      "outputs": []
    }
  ]
}